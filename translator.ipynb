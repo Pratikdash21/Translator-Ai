{
 "cells": [
  {
   "cell_type": "code",
   "execution_count": 1,
   "metadata": {},
   "outputs": [
    {
     "name": "stdout",
     "output_type": "stream",
     "text": [
      "Collecting translate\n",
      "  Downloading translate-3.6.1-py2.py3-none-any.whl (12 kB)\n",
      "Requirement already satisfied: click in c:\\users\\prati\\appdata\\local\\programs\\python\\python39\\lib\\site-packages (from translate) (8.1.3)\n",
      "Collecting requests\n",
      "  Downloading requests-2.31.0-py3-none-any.whl (62 kB)\n",
      "     ---------------------------------------- 0.0/62.6 kB ? eta -:--:--\n",
      "     ------------------- -------------------- 30.7/62.6 kB 1.4 MB/s eta 0:00:01\n",
      "     -------------------------------------- 62.6/62.6 kB 844.1 kB/s eta 0:00:00\n",
      "Collecting lxml\n",
      "  Downloading lxml-4.9.2-cp39-cp39-win_amd64.whl (3.9 MB)\n",
      "     ---------------------------------------- 0.0/3.9 MB ? eta -:--:--\n",
      "      --------------------------------------- 0.1/3.9 MB 2.6 MB/s eta 0:00:02\n",
      "     -- ------------------------------------- 0.2/3.9 MB 2.5 MB/s eta 0:00:02\n",
      "     --- ------------------------------------ 0.4/3.9 MB 2.5 MB/s eta 0:00:02\n",
      "     ----- ---------------------------------- 0.6/3.9 MB 3.0 MB/s eta 0:00:02\n",
      "     ---------- ----------------------------- 1.0/3.9 MB 4.5 MB/s eta 0:00:01\n",
      "     --------------- ------------------------ 1.5/3.9 MB 5.6 MB/s eta 0:00:01\n",
      "     --------------- ------------------------ 1.5/3.9 MB 5.6 MB/s eta 0:00:01\n",
      "     ---------------------- ----------------- 2.2/3.9 MB 5.8 MB/s eta 0:00:01\n",
      "     --------------------------- ------------ 2.6/3.9 MB 6.4 MB/s eta 0:00:01\n",
      "     --------------------------- ------------ 2.6/3.9 MB 6.4 MB/s eta 0:00:01\n",
      "     --------------------------- ------------ 2.6/3.9 MB 6.4 MB/s eta 0:00:01\n",
      "     ----------------------------- ---------- 2.8/3.9 MB 5.0 MB/s eta 0:00:01\n",
      "     ------------------------------------- -- 3.7/3.9 MB 6.5 MB/s eta 0:00:01\n",
      "     ------------------------------------- -- 3.7/3.9 MB 6.5 MB/s eta 0:00:01\n",
      "     ---------------------------------------  3.9/3.9 MB 5.9 MB/s eta 0:00:01\n",
      "     ---------------------------------------- 3.9/3.9 MB 5.3 MB/s eta 0:00:00\n",
      "Collecting libretranslatepy==2.1.1\n",
      "  Downloading libretranslatepy-2.1.1-py3-none-any.whl (3.2 kB)\n",
      "Requirement already satisfied: colorama in c:\\users\\prati\\appdata\\local\\programs\\python\\python39\\lib\\site-packages (from click->translate) (0.4.6)\n",
      "Collecting idna<4,>=2.5\n",
      "  Downloading idna-3.4-py3-none-any.whl (61 kB)\n",
      "     ---------------------------------------- 0.0/61.5 kB ? eta -:--:--\n",
      "     ---------------------------------------- 61.5/61.5 kB ? eta 0:00:00\n",
      "Collecting urllib3<3,>=1.21.1\n",
      "  Downloading urllib3-2.0.3-py3-none-any.whl (123 kB)\n",
      "     ---------------------------------------- 0.0/123.6 kB ? eta -:--:--\n",
      "     -------------------------------------- 123.6/123.6 kB 7.1 MB/s eta 0:00:00\n",
      "Collecting charset-normalizer<4,>=2\n",
      "  Downloading charset_normalizer-3.1.0-cp39-cp39-win_amd64.whl (97 kB)\n",
      "     ---------------------------------------- 0.0/97.1 kB ? eta -:--:--\n",
      "     ---------------------------------------- 97.1/97.1 kB 5.4 MB/s eta 0:00:00\n",
      "Collecting certifi>=2017.4.17\n",
      "  Downloading certifi-2023.5.7-py3-none-any.whl (156 kB)\n",
      "     ---------------------------------------- 0.0/157.0 kB ? eta -:--:--\n",
      "     -------------------------------------- 157.0/157.0 kB 9.2 MB/s eta 0:00:00\n",
      "Installing collected packages: libretranslatepy, urllib3, lxml, idna, charset-normalizer, certifi, requests, translate\n",
      "Successfully installed certifi-2023.5.7 charset-normalizer-3.1.0 idna-3.4 libretranslatepy-2.1.1 lxml-4.9.2 requests-2.31.0 translate-3.6.1 urllib3-2.0.3\n",
      "Note: you may need to restart the kernel to use updated packages.\n"
     ]
    },
    {
     "name": "stderr",
     "output_type": "stream",
     "text": [
      "\n",
      "[notice] A new release of pip is available: 23.0.1 -> 23.1.2\n",
      "[notice] To update, run: python.exe -m pip install --upgrade pip\n"
     ]
    }
   ],
   "source": [
    "%pip install translate"
   ]
  },
  {
   "cell_type": "code",
   "execution_count": 2,
   "metadata": {},
   "outputs": [
    {
     "name": "stdout",
     "output_type": "stream",
     "text": [
      "Translated Text: Bonjour, comment allez-vous ?\n"
     ]
    }
   ],
   "source": [
    "from translate import Translator\n",
    "\n",
    "def translate_text(text, source_lang, target_lang):\n",
    "    translator = Translator(from_lang=source_lang, to_lang=target_lang)\n",
    "    translation = translator.translate(text)\n",
    "    return translation\n",
    "\n",
    "source_text = \"Hello, how are you?\"\n",
    "source_lang = \"en\"\n",
    "target_lang = \"fr\"\n",
    "\n",
    "translated_text = translate_text(source_text, source_lang, target_lang)\n",
    "\n",
    "print(\"Translated Text:\", translated_text)\n"
   ]
  }
 ],
 "metadata": {
  "kernelspec": {
   "display_name": "Python 3",
   "language": "python",
   "name": "python3"
  },
  "language_info": {
   "codemirror_mode": {
    "name": "ipython",
    "version": 3
   },
   "file_extension": ".py",
   "mimetype": "text/x-python",
   "name": "python",
   "nbconvert_exporter": "python",
   "pygments_lexer": "ipython3",
   "version": "3.9.1"
  },
  "orig_nbformat": 4
 },
 "nbformat": 4,
 "nbformat_minor": 2
}
